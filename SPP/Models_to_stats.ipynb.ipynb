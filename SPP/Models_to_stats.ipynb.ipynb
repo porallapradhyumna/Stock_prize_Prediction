{
  "nbformat": 4,
  "nbformat_minor": 0,
  "metadata": {
    "colab": {
      "provenance": []
    },
    "kernelspec": {
      "name": "python3",
      "display_name": "Python 3"
    },
    "language_info": {
      "name": "python"
    }
  },
  "cells": [
    {
      "cell_type": "code",
      "execution_count": null,
      "metadata": {
        "colab": {
          "base_uri": "https://localhost:8080/"
        },
        "id": "Vp1aWrASQV-h",
        "outputId": "c5b0bf5b-84f9-4fd5-dd92-6be11487d373"
      },
      "outputs": [
        {
          "output_type": "stream",
          "name": "stdout",
          "text": [
            "['Date', 'Open', 'High', 'Low', 'Close', 'Adj Close', 'Volume']\n",
            "5936\n"
          ]
        }
      ],
      "source": [
        "import pandas as pd\n",
        "fname = \"/content/QMCI.csv\"\n",
        "with open(fname) as f:\n",
        "    data = f.read()\n",
        "\n",
        "lines = data.split(\"\\n\")\n",
        "header = lines[0].split(\",\")\n",
        "lines = lines[1:]\n",
        "print(header)\n",
        "print(len(lines))\n",
        "##This code reads the contents of the file\n",
        "# and processes it to extract the header and the data\n",
        "#TC96\n"
      ]
    },
    {
      "cell_type": "code",
      "source": [
        "import numpy as np\n",
        "AdjClose = np.zeros((len(lines),))\n",
        "raw_data = np.zeros((len(lines), len(header) - 1))\n",
        "for i, line in enumerate(lines):\n",
        "    values = [float(x) for x in line.split(\",\")[1:]]\n",
        "    AdjClose[i] = values[1]\n",
        "    raw_data[i, :] = values[:]\n",
        "#this code, using the NumPy library to process the data from the CSV file and create NumPy arrays for the Adjclose and raw data.\n",
        "#TC96"
      ],
      "metadata": {
        "id": "jky8rF8GZWIY"
      },
      "execution_count": null,
      "outputs": []
    },
    {
      "cell_type": "code",
      "source": [
        "from matplotlib import pyplot as plt\n",
        "plt.plot(range(len(AdjClose)), AdjClose)\n",
        "# This code will  plot the adjclose values against their respective indices.\n",
        "#TC96"
      ],
      "metadata": {
        "colab": {
          "base_uri": "https://localhost:8080/",
          "height": 447
        },
        "id": "xy4WMaZfZpTd",
        "outputId": "888ef9ae-f507-47dd-940f-6f03cd9b7ad9"
      },
      "execution_count": null,
      "outputs": [
        {
          "output_type": "execute_result",
          "data": {
            "text/plain": [
              "[<matplotlib.lines.Line2D at 0x7a16cfc84130>]"
            ]
          },
          "metadata": {},
          "execution_count": 3
        },
        {
          "output_type": "display_data",
          "data": {
            "text/plain": [
              "<Figure size 640x480 with 1 Axes>"
            ],
            "image/png": "[encoded data removed]"
          },
          "metadata": {}
        }
      ]
    },
    {
      "cell_type": "code",
      "source": [
        "num_train_samples = int(0.5 * len(raw_data))\n",
        "num_val_samples = int(0.25 * len(raw_data))\n",
        "num_test_samples = len(raw_data) - num_train_samples - num_val_samples\n",
        "print(\"num_train_samples:\", num_train_samples)\n",
        "print(\"num_val_samples:\", num_val_samples)\n",
        "print(\"num_test_samples:\", num_test_samples)\n",
        "#In the code, we are calculating the number of training, validation, and test samples\n",
        "# based on the total number of samples in your dataset.\n",
        "#TC96"
      ],
      "metadata": {
        "colab": {
          "base_uri": "https://localhost:8080/"
        },
        "id": "N-3qQnMVZ3Xi",
        "outputId": "b3b85485-f92b-462e-80eb-4941ed4e9b72"
      },
      "execution_count": null,
      "outputs": [
        {
          "output_type": "stream",
          "name": "stdout",
          "text": [
            "num_train_samples: 2968\n",
            "num_val_samples: 1484\n",
            "num_test_samples: 1484\n"
          ]
        }
      ]
    },
    {
      "cell_type": "code",
      "source": [
        "mean = raw_data[:num_train_samples].mean(axis=0)\n",
        "raw_data -= mean\n",
        "std = raw_data[:num_train_samples].std(axis=0)\n",
        "raw_data /= std\n",
        "#In this code, we are performing feature scaling on the raw_data array using the mean and standard deviation\n",
        "#TC96"
      ],
      "metadata": {
        "id": "gWHlRAA-Z_Iq"
      },
      "execution_count": null,
      "outputs": []
    },
    {
      "cell_type": "code",
      "source": [
        "raw_data.shape"
      ],
      "metadata": {
        "colab": {
          "base_uri": "https://localhost:8080/"
        },
        "id": "Kod1B8Avssx4",
        "outputId": "70eaab54-6ef6-47c1-a3fb-ecc67cc8dd23"
      },
      "execution_count": null,
      "outputs": [
        {
          "output_type": "execute_result",
          "data": {
            "text/plain": [
              "(5936, 6)"
            ]
          },
          "metadata": {},
          "execution_count": 6
        }
      ]
    },
    {
      "cell_type": "code",
      "source": [
        "import keras\n",
        "sampling_rate = 2\n",
        "sequence_length = 120\n",
        "delay = sampling_rate * (sequence_length + 24 - 1)\n",
        "batch_size = 256\n",
        "\n",
        "train_dataset = keras.utils.timeseries_dataset_from_array(\n",
        "    raw_data[:-delay],\n",
        "    targets=AdjClose[delay:],\n",
        "    sampling_rate=sampling_rate,\n",
        "    sequence_length=sequence_length,\n",
        "    shuffle=True,\n",
        "    batch_size=batch_size,\n",
        "    start_index=0,\n",
        "    end_index=num_train_samples)\n",
        "\n",
        "val_dataset = keras.utils.timeseries_dataset_from_array(\n",
        "    raw_data[:-delay],\n",
        "    targets=AdjClose[delay:],\n",
        "    sampling_rate=sampling_rate,\n",
        "    sequence_length=sequence_length,\n",
        "    shuffle=True,\n",
        "    batch_size=batch_size,\n",
        "    start_index=num_train_samples,\n",
        "    end_index=num_train_samples + num_val_samples)\n",
        "\n",
        "test_dataset = keras.utils.timeseries_dataset_from_array(\n",
        "    raw_data[:-delay],\n",
        "    targets=AdjClose[delay:],\n",
        "    sampling_rate=sampling_rate,\n",
        "    sequence_length=sequence_length,\n",
        "    shuffle=True,\n",
        "    batch_size=batch_size,\n",
        "    start_index=num_train_samples + num_val_samples)\n",
        "#The code will able to do the  preparing time series datasets for training, validation,\n",
        "# and testing using Keras for a machine learning or deep learning model.\n",
        "#TC96"
      ],
      "metadata": {
        "id": "OjGKFnD_aWfY"
      },
      "execution_count": null,
      "outputs": []
    },
    {
      "cell_type": "code",
      "source": [
        "for samples, targets in train_dataset:\n",
        "    print(\"samples shape:\", samples.shape)\n",
        "    print(\"targets shape:\", targets.shape)\n",
        "    break\n",
        "#The code is iterating over the train_dataset and printing the shapes\n",
        "# of samples and targets for the first batch of data.\n",
        "#TC96"
      ],
      "metadata": {
        "colab": {
          "base_uri": "https://localhost:8080/"
        },
        "id": "CGp5m7Q-au4o",
        "outputId": "f8c86b3e-9c19-4086-d339-7d6c56d920f0"
      },
      "execution_count": null,
      "outputs": [
        {
          "output_type": "stream",
          "name": "stdout",
          "text": [
            "samples shape: (256, 120, 6)\n",
            "targets shape: (256,)\n"
          ]
        }
      ]
    },
    {
      "cell_type": "code",
      "source": [
        "from tensorflow import keras\n",
        "from tensorflow.keras import layers\n",
        "\n",
        "inputs = keras.Input(shape=(sequence_length, raw_data.shape[-1]))\n",
        "x = layers.Flatten()(inputs)\n",
        "x = layers.Dense(16, activation=\"relu\")(x)\n",
        "outputs = layers.Dense(1)(x)\n",
        "model = keras.Model(inputs, outputs)\n",
        "\n",
        "callbacks = [\n",
        "    keras.callbacks.ModelCheckpoint(\"jena_dense.tf\",\n",
        "                                    save_best_only=True)\n",
        "]\n",
        "model.compile(optimizer=\"rmsprop\", loss=\"mse\", metrics=[\"mae\"])\n",
        "history = model.fit(train_dataset,\n",
        "                    epochs=10,\n",
        "                    validation_data=val_dataset,\n",
        "                    callbacks=callbacks)\n",
        "\n",
        "model = keras.models.load_model(\"jena_dense.tf\")\n",
        "print(f\"Test MAE: {model.evaluate(test_dataset)[1]:.2f}\")\n",
        "#The code essentially creates a simple neural network for a regression task (predicting a continuous value)\n",
        "# and evaluates its performance using the MAE metric on the test dataset\n",
        "#TC96\n"
      ],
      "metadata": {
        "colab": {
          "base_uri": "https://localhost:8080/"
        },
        "id": "2aQQ7WXObZyy",
        "outputId": "6abe5f9a-fd1b-46e2-c9d2-d83a8fcc7249"
      },
      "execution_count": null,
      "outputs": [
        {
          "output_type": "stream",
          "name": "stdout",
          "text": [
            "Epoch 1/10\n",
            "11/11 [==============================] - 2s 98ms/step - loss: 0.4857 - mae: 0.4362 - val_loss: 0.2446 - val_mae: 0.2647\n",
            "Epoch 2/10\n",
            "11/11 [==============================] - 1s 73ms/step - loss: 0.1655 - mae: 0.2648 - val_loss: 0.2430 - val_mae: 0.2900\n",
            "Epoch 3/10\n",
            "11/11 [==============================] - 1s 75ms/step - loss: 0.1304 - mae: 0.2465 - val_loss: 0.1933 - val_mae: 0.2725\n",
            "Epoch 4/10\n",
            "11/11 [==============================] - 1s 85ms/step - loss: 0.1052 - mae: 0.2235 - val_loss: 0.0793 - val_mae: 0.1752\n",
            "Epoch 5/10\n",
            "11/11 [==============================] - 1s 28ms/step - loss: 0.1079 - mae: 0.2319 - val_loss: 0.0940 - val_mae: 0.1830\n",
            "Epoch 6/10\n",
            "11/11 [==============================] - 1s 71ms/step - loss: 0.0497 - mae: 0.1470 - val_loss: 0.0758 - val_mae: 0.1553\n",
            "Epoch 7/10\n",
            "11/11 [==============================] - 2s 177ms/step - loss: 0.0972 - mae: 0.2134 - val_loss: 0.0457 - val_mae: 0.1193\n",
            "Epoch 8/10\n",
            "11/11 [==============================] - 1s 80ms/step - loss: 0.0354 - mae: 0.1287 - val_loss: 0.0757 - val_mae: 0.1665\n",
            "Epoch 9/10\n",
            "11/11 [==============================] - 3s 218ms/step - loss: 0.0653 - mae: 0.1805 - val_loss: 0.0314 - val_mae: 0.1015\n",
            "Epoch 10/10\n",
            "11/11 [==============================] - 1s 82ms/step - loss: 0.0596 - mae: 0.1720 - val_loss: 0.1532 - val_mae: 0.2949\n",
            "4/4 [==============================] - 1s 7ms/step - loss: 0.1011 - mae: 0.2100\n",
            "Test MAE: 0.21\n"
          ]
        }
      ]
    },
    {
      "cell_type": "code",
      "source": [
        "import matplotlib.pyplot as plt\n",
        "loss = history.history[\"mae\"]\n",
        "val_loss = history.history[\"val_mae\"]\n",
        "epochs = range(1, len(loss) + 1)\n",
        "plt.figure()\n",
        "plt.plot(epochs, loss, \"bo\", label=\"Training MAE\")\n",
        "plt.plot(epochs, val_loss, \"b\", label=\"Validation MAE\")\n",
        "plt.title(\"Training and validation MAE\")\n",
        "plt.legend()\n",
        "plt.show()\n",
        "#The resulting plot shows how the training and validation MAE change over the course of training epochs.\n",
        "#It can help you identify overfitting or underfitting,\n",
        "# as well as assess the model's performance on both training and validation data.\n",
        "#TC96"
      ],
      "metadata": {
        "colab": {
          "base_uri": "https://localhost:8080/",
          "height": 452
        },
        "id": "wtCUNRZBfGE0",
        "outputId": "006d7296-3b50-4480-ff43-6d1c842ecdaa"
      },
      "execution_count": null,
      "outputs": [
        {
          "output_type": "display_data",
          "data": {
            "text/plain": [
              "<Figure size 640x480 with 1 Axes>"
            ],
            "image/png": "[encoded data removed]"
          },
          "metadata": {}
        }
      ]
    },
    {
      "cell_type": "code",
      "source": [
        "\n",
        "for samples, targets in test_dataset:\n",
        "    print(\"samples shape:\", samples.shape)\n",
        "    print(\"targets shape:\", targets.shape)\n",
        "    break"
      ],
      "metadata": {
        "colab": {
          "base_uri": "https://localhost:8080/"
        },
        "id": "nhNbIPiqq9j6",
        "outputId": "0aec08bd-95e0-4bd3-ae5b-81a14a7ed659"
      },
      "execution_count": null,
      "outputs": [
        {
          "output_type": "stream",
          "name": "stdout",
          "text": [
            "samples shape: (256, 120, 6)\n",
            "targets shape: (256,)\n"
          ]
        }
      ]
    },
    {
      "cell_type": "code",
      "source": [
        "(sequence_length, raw_data.shape[-1])"
      ],
      "metadata": {
        "colab": {
          "base_uri": "https://localhost:8080/"
        },
        "id": "svlK_NXouGz0",
        "outputId": "46e5d5f6-7e68-4ed1-d8b0-ec0d6ea8fdbc"
      },
      "execution_count": null,
      "outputs": [
        {
          "output_type": "execute_result",
          "data": {
            "text/plain": [
              "(120, 6)"
            ]
          },
          "metadata": {},
          "execution_count": 20
        }
      ]
    },
    {
      "cell_type": "code",
      "source": [
        "output_seq_length = ((3 -  6+ 2 * 0) // 1) + 1\n",
        "output_feature_channels = 8\n",
        "print(output_seq_length)"
      ],
      "metadata": {
        "colab": {
          "base_uri": "https://localhost:8080/"
        },
        "id": "g8lvso6Ftfk_",
        "outputId": "3aa211ee-30f5-464f-d4ba-9d864c09d97f"
      },
      "execution_count": null,
      "outputs": [
        {
          "output_type": "stream",
          "name": "stdout",
          "text": [
            "-2\n"
          ]
        }
      ]
    },
    {
      "cell_type": "code",
      "source": [
        "import keras\n",
        "from keras import layers\n",
        "\n",
        "# Define the model architecture\n",
        "inputs = keras.Input(shape=(sequence_length, raw_data.shape[-1]))\n",
        "x = layers.Conv1D(8, 24, activation=\"relu\")(inputs)\n",
        "x = layers.MaxPooling1D(2)(x)\n",
        "x = layers.Conv1D(8, 6, activation=\"relu\")(x)\n",
        "x = layers.GlobalAveragePooling1D()(x)\n",
        "outputs = layers.Dense(1)(x)\n",
        "model = keras.Model(inputs, outputs)\n",
        "\n",
        "# Define callbacks, compile the model, and train\n",
        "callbacks = [\n",
        "    keras.callbacks.ModelCheckpoint(\"jena_conv.tf\",\n",
        "                                    save_best_only=True)\n",
        "]\n",
        "model.compile(optimizer=\"rmsprop\", loss=\"mse\", metrics=[\"mae\"])\n",
        "history = model.fit(train_dataset, epochs=10, validation_data=val_dataset, callbacks=callbacks)\n",
        "\n",
        "# Load the saved model\n",
        "model = keras.models.load_model(\"jena_conv.tf\")\n",
        "\n",
        "# Evaluate the model on the test dataset\n",
        "test_mae = model.evaluate(test_dataset)[1]\n",
        "print(f\"Test MAE: {test_mae:.2f}\")\n",
        "#code is creating a 1D convolutional neural network for a regression task (predicting a continuous value)\n",
        "# and evaluating its performance using the MAE metric on the test dataset.\n",
        "#TC96\n"
      ],
      "metadata": {
        "colab": {
          "base_uri": "https://localhost:8080/"
        },
        "id": "2IeK0ruxlGjQ",
        "outputId": "21831e7b-6698-4c59-950e-c624faf22b44"
      },
      "execution_count": null,
      "outputs": [
        {
          "output_type": "stream",
          "name": "stdout",
          "text": [
            "Epoch 1/10\n",
            "11/11 [==============================] - 2s 138ms/step - loss: 0.0151 - mae: 0.0886 - val_loss: 0.0138 - val_mae: 0.0694\n",
            "Epoch 2/10\n",
            "11/11 [==============================] - 2s 109ms/step - loss: 0.0069 - mae: 0.0601 - val_loss: 0.0146 - val_mae: 0.0885\n",
            "Epoch 3/10\n",
            "11/11 [==============================] - 1s 68ms/step - loss: 0.0058 - mae: 0.0548 - val_loss: 0.0169 - val_mae: 0.0897\n",
            "Epoch 4/10\n",
            "11/11 [==============================] - 2s 157ms/step - loss: 0.0053 - mae: 0.0525 - val_loss: 0.0135 - val_mae: 0.0720\n",
            "Epoch 5/10\n",
            "11/11 [==============================] - 2s 105ms/step - loss: 0.0048 - mae: 0.0503 - val_loss: 0.0144 - val_mae: 0.0842\n",
            "Epoch 6/10\n",
            "11/11 [==============================] - 1s 68ms/step - loss: 0.0044 - mae: 0.0478 - val_loss: 0.0145 - val_mae: 0.0856\n",
            "Epoch 7/10\n",
            "11/11 [==============================] - 1s 58ms/step - loss: 0.0047 - mae: 0.0486 - val_loss: 0.0209 - val_mae: 0.1017\n",
            "Epoch 8/10\n",
            "11/11 [==============================] - 1s 48ms/step - loss: 0.0041 - mae: 0.0458 - val_loss: 0.0188 - val_mae: 0.0944\n",
            "Epoch 9/10\n",
            "11/11 [==============================] - 1s 116ms/step - loss: 0.0041 - mae: 0.0461 - val_loss: 0.0106 - val_mae: 0.0715\n",
            "Epoch 10/10\n",
            "11/11 [==============================] - 2s 168ms/step - loss: 0.0039 - mae: 0.0446 - val_loss: 0.0092 - val_mae: 0.0596\n",
            "4/4 [==============================] - 0s 9ms/step - loss: 0.0111 - mae: 0.0810\n",
            "Test MAE: 0.08\n"
          ]
        }
      ]
    },
    {
      "cell_type": "code",
      "source": [
        "inputs = keras.Input(shape=(sequence_length, raw_data.shape[-1]))\n",
        "x = layers.LSTM(16)(inputs)\n",
        "outputs = layers.Dense(1)(x)\n",
        "model = keras.Model(inputs, outputs)\n",
        "\n",
        "callbacks = [\n",
        "    keras.callbacks.ModelCheckpoint(\"jena_lstm.tf\",\n",
        "                                    save_best_only=True)\n",
        "]\n",
        "model.compile(optimizer=\"rmsprop\", loss=\"mse\", metrics=[\"mae\"])\n",
        "history = model.fit(train_dataset,\n",
        "                    epochs=10,\n",
        "                    validation_data=val_dataset,\n",
        "                    callbacks=callbacks)\n",
        "\n",
        "model = keras.models.load_model(\"jena_lstm.tf\")\n",
        "print(f\"Test MAE: {model.evaluate(test_dataset)[1]:.2f}\")\n",
        "#code is creating an LSTM-based neural network for a regression task (predicting a continuous value)\n",
        "#and evaluating its performance using the MAE metric on the test dataset\n",
        "#TC96"
      ],
      "metadata": {
        "colab": {
          "base_uri": "https://localhost:8080/"
        },
        "id": "B9UvBcOJn-By",
        "outputId": "8179ae0b-6425-48b6-ec4f-8f9cbdf31851"
      },
      "execution_count": null,
      "outputs": [
        {
          "output_type": "stream",
          "name": "stdout",
          "text": [
            "Epoch 1/10\n",
            "11/11 [==============================] - 8s 568ms/step - loss: 0.0758 - mae: 0.2027 - val_loss: 0.0030 - val_mae: 0.0405\n",
            "Epoch 2/10\n",
            "11/11 [==============================] - 10s 899ms/step - loss: 0.0226 - mae: 0.1097 - val_loss: 0.0019 - val_mae: 0.0269\n",
            "Epoch 3/10\n",
            "11/11 [==============================] - 6s 511ms/step - loss: 0.0071 - mae: 0.0589 - val_loss: 0.0014 - val_mae: 0.0225\n",
            "Epoch 4/10\n",
            "11/11 [==============================] - 2s 90ms/step - loss: 0.0050 - mae: 0.0498 - val_loss: 0.0018 - val_mae: 0.0342\n",
            "Epoch 5/10\n",
            "11/11 [==============================] - 6s 523ms/step - loss: 0.0047 - mae: 0.0484 - val_loss: 0.0010 - val_mae: 0.0230\n",
            "Epoch 6/10\n",
            "11/11 [==============================] - 6s 556ms/step - loss: 0.0047 - mae: 0.0487 - val_loss: 9.1586e-04 - val_mae: 0.0215\n",
            "Epoch 7/10\n",
            "11/11 [==============================] - 5s 477ms/step - loss: 0.0045 - mae: 0.0479 - val_loss: 6.6656e-04 - val_mae: 0.0158\n",
            "Epoch 8/10\n",
            "11/11 [==============================] - 1s 91ms/step - loss: 0.0045 - mae: 0.0474 - val_loss: 0.0012 - val_mae: 0.0295\n",
            "Epoch 9/10\n",
            "11/11 [==============================] - 2s 146ms/step - loss: 0.0045 - mae: 0.0479 - val_loss: 8.6643e-04 - val_mae: 0.0215\n",
            "Epoch 10/10\n",
            "11/11 [==============================] - 2s 117ms/step - loss: 0.0044 - mae: 0.0475 - val_loss: 0.0016 - val_mae: 0.0345\n",
            "4/4 [==============================] - 1s 24ms/step - loss: 0.0037 - mae: 0.0438\n",
            "Test MAE: 0.04\n"
          ]
        }
      ]
    },
    {
      "cell_type": "code",
      "source": [
        "import numpy as np\n",
        "timesteps = 100\n",
        "input_features = 32\n",
        "output_features = 64\n",
        "inputs = np.random.random((timesteps, input_features))\n",
        "state_t = np.zeros((output_features,))\n",
        "W = np.random.random((output_features, input_features))\n",
        "U = np.random.random((output_features, output_features))\n",
        "b = np.random.random((output_features,))\n",
        "successive_outputs = []\n",
        "for input_t in inputs:\n",
        "    output_t = np.tanh(np.dot(W, input_t) + np.dot(U, state_t) + b)\n",
        "    successive_outputs.append(output_t)\n",
        "    state_t = output_t\n",
        "final_output_sequence = np.stack(successive_outputs, axis=0)\n",
        "#this code demonstrates a basic simulation of an RNN's forward pass, where input data is processed through time steps,\n",
        "# and the RNN's output sequence is computed based on learned weights and biases\n",
        "#TC96"
      ],
      "metadata": {
        "id": "0iyr_vLcoQlW"
      },
      "execution_count": null,
      "outputs": []
    },
    {
      "cell_type": "code",
      "source": [
        "num_features = 14\n",
        "inputs = keras.Input(shape=(None, num_features))\n",
        "outputs = layers.SimpleRNN(16)(inputs)\n",
        "#code sets up the architecture for a SimpleRNN-based model that\n",
        "# can process sequences of data with varying numbers of time steps and 14 input features\n",
        "#TC96"
      ],
      "metadata": {
        "id": "M-JNoeXYoUkO"
      },
      "execution_count": null,
      "outputs": []
    },
    {
      "cell_type": "code",
      "execution_count": null,
      "metadata": {
        "colab": {
          "base_uri": "https://localhost:8080/"
        },
        "id": "EfZmiLAUobJJ",
        "outputId": "b765586c-0228-470b-9139-69fac0b4523b"
      },
      "outputs": [
        {
          "output_type": "stream",
          "name": "stdout",
          "text": [
            "(None, 16)\n"
          ]
        }
      ],
      "source": [
        "num_features = 14\n",
        "steps = 120\n",
        "inputs = keras.Input(shape=(steps, num_features))\n",
        "outputs = layers.SimpleRNN(16, return_sequences=False)(inputs)\n",
        "print(outputs.shape)\n",
        "# code is for creating a Simple Recurrent Neural Network (SimpleRNN) model with a specific input shape\n",
        "#and configuration and then printing the shape of the output.\n",
        "#TC96"
      ]
    },
    {
      "cell_type": "code",
      "source": [
        "num_features = 14\n",
        "steps = 120\n",
        "inputs = keras.Input(shape=(steps, num_features))\n",
        "outputs = layers.SimpleRNN(16, return_sequences=True)(inputs)\n",
        "print(outputs.shape)\n",
        "# code is for creating a Simple Recurrent Neural Network (SimpleRNN) model with a specific input shape\n",
        "#and configuration and then printing the shape of the output.\n",
        "#TC96"
      ],
      "metadata": {
        "colab": {
          "base_uri": "https://localhost:8080/"
        },
        "id": "J1UlC26zoeG5",
        "outputId": "09929f44-2103-45c9-d2d1-e153760d2c8d"
      },
      "execution_count": null,
      "outputs": [
        {
          "output_type": "stream",
          "name": "stdout",
          "text": [
            "(None, 120, 16)\n"
          ]
        }
      ]
    },
    {
      "cell_type": "code",
      "source": [
        "inputs = keras.Input(shape=(steps, num_features))\n",
        "x = layers.SimpleRNN(16, return_sequences=True)(inputs)\n",
        "x = layers.SimpleRNN(16, return_sequences=True)(x)\n",
        "outputs = layers.SimpleRNN(16)(x)\n",
        "#This code creates a stacked SimpleRNN model with three layers. The first two layers return the full sequence of outputs,\n",
        "# and the final layer returns only the output at the last time step.\n",
        "#TC96"
      ],
      "metadata": {
        "id": "VK9Gf3Qfoh_d"
      },
      "execution_count": null,
      "outputs": []
    },
    {
      "cell_type": "code",
      "source": [
        "inputs = keras.Input(shape=(sequence_length, raw_data.shape[-1]))\n",
        "x = layers.LSTM(32, recurrent_dropout=0.25)(inputs)\n",
        "x = layers.Dropout(0.5)(x)\n",
        "outputs = layers.Dense(1)(x)\n",
        "model = keras.Model(inputs, outputs)\n",
        "\n",
        "callbacks = [\n",
        "    keras.callbacks.ModelCheckpoint(\"jena_lstm_dropout.tf\",\n",
        "                                    save_best_only=True)\n",
        "]\n",
        "model.compile(optimizer=\"rmsprop\", loss=\"mse\", metrics=[\"mae\"])\n",
        "history = model.fit(train_dataset,\n",
        "                    epochs=10,\n",
        "                    validation_data=val_dataset,\n",
        "                    callbacks=callbacks)\n",
        "#code sets up a Long Short-Term Memory (LSTM) network with dropout layers to prevent overfitting during training. The LSTM layer captures\n",
        "#sequential patterns in the data, and the dropout layers help improve generalization\n",
        "#TC96"
      ],
      "metadata": {
        "colab": {
          "base_uri": "https://localhost:8080/"
        },
        "id": "rZV25zTZonrE",
        "outputId": "0a87d289-176f-4d15-80ec-7c2ee5f8bb80"
      },
      "execution_count": null,
      "outputs": [
        {
          "output_type": "stream",
          "name": "stdout",
          "text": [
            "Epoch 1/10\n",
            "11/11 [==============================] - 10s 506ms/step - loss: 0.0657 - mae: 0.2040 - val_loss: 0.0042 - val_mae: 0.0566\n",
            "Epoch 2/10\n",
            "11/11 [==============================] - 7s 616ms/step - loss: 0.0269 - mae: 0.1246 - val_loss: 9.0971e-04 - val_mae: 0.0208\n",
            "Epoch 3/10\n",
            "11/11 [==============================] - 3s 202ms/step - loss: 0.0191 - mae: 0.1041 - val_loss: 0.0022 - val_mae: 0.0386\n",
            "Epoch 4/10\n",
            "11/11 [==============================] - 4s 330ms/step - loss: 0.0160 - mae: 0.0950 - val_loss: 0.0043 - val_mae: 0.0556\n",
            "Epoch 5/10\n",
            "11/11 [==============================] - 3s 232ms/step - loss: 0.0130 - mae: 0.0853 - val_loss: 0.0016 - val_mae: 0.0284\n",
            "Epoch 6/10\n",
            "11/11 [==============================] - 3s 206ms/step - loss: 0.0122 - mae: 0.0812 - val_loss: 0.0013 - val_mae: 0.0226\n",
            "Epoch 7/10\n",
            "11/11 [==============================] - 4s 309ms/step - loss: 0.0111 - mae: 0.0764 - val_loss: 0.0015 - val_mae: 0.0264\n",
            "Epoch 8/10\n",
            "11/11 [==============================] - 3s 238ms/step - loss: 0.0092 - mae: 0.0704 - val_loss: 0.0013 - val_mae: 0.0250\n",
            "Epoch 9/10\n",
            "11/11 [==============================] - 3s 210ms/step - loss: 0.0090 - mae: 0.0685 - val_loss: 0.0028 - val_mae: 0.0423\n",
            "Epoch 10/10\n",
            "11/11 [==============================] - 3s 206ms/step - loss: 0.0080 - mae: 0.0661 - val_loss: 0.0012 - val_mae: 0.0224\n"
          ]
        }
      ]
    },
    {
      "cell_type": "code",
      "source": [
        "inputs = keras.Input(shape=(sequence_length, num_features))\n",
        "x = layers.LSTM(32, recurrent_dropout=0.2, unroll=True)(inputs)\n",
        "#code configures an LSTM-based neural network model with recurrent dropout for regularization and the unroll option for optimization.\n",
        "#TC96"
      ],
      "metadata": {
        "id": "zkpBBIY5oz51"
      },
      "execution_count": null,
      "outputs": []
    },
    {
      "cell_type": "code",
      "source": [
        "inputs = keras.Input(shape=(sequence_length, raw_data.shape[-1]))\n",
        "x = layers.GRU(32, recurrent_dropout=0.5, return_sequences=True)(inputs)\n",
        "x = layers.GRU(32, recurrent_dropout=0.5)(x)\n",
        "x = layers.Dropout(0.5)(x)\n",
        "outputs = layers.Dense(1)(x)\n",
        "model = keras.Model(inputs, outputs)\n",
        "\n",
        "callbacks = [\n",
        "    keras.callbacks.ModelCheckpoint(\"jena_stacked_gru_dropout.tf\",\n",
        "                                    save_best_only=True)\n",
        "]\n",
        "model.compile(optimizer=\"rmsprop\", loss=\"mse\", metrics=[\"mae\"])\n",
        "history = model.fit(train_dataset,\n",
        "                    epochs=10,\n",
        "                    validation_data=val_dataset,\n",
        "                    callbacks=callbacks)\n",
        "model = keras.models.load_model(\"jena_stacked_gru_dropout.tf\")\n",
        "print(f\"Test MAE: {model.evaluate(test_dataset)[1]:.2f}\")\n",
        "#code sets up a stacked GRU-based neural network with dropout layers to prevent overfitting during training.\n",
        "#TC96"
      ],
      "metadata": {
        "colab": {
          "base_uri": "https://localhost:8080/"
        },
        "id": "cAUEfjEso41x",
        "outputId": "38358099-c002-47c5-b838-356b386119f0"
      },
      "execution_count": null,
      "outputs": [
        {
          "output_type": "stream",
          "name": "stdout",
          "text": [
            "Epoch 1/10\n",
            "11/11 [==============================] - 17s 978ms/step - loss: 0.0390 - mae: 0.1479 - val_loss: 0.0040 - val_mae: 0.0338\n",
            "Epoch 2/10\n",
            "11/11 [==============================] - 11s 1s/step - loss: 0.0124 - mae: 0.0848 - val_loss: 0.0018 - val_mae: 0.0215\n",
            "Epoch 3/10\n",
            "11/11 [==============================] - 12s 1s/step - loss: 0.0104 - mae: 0.0770 - val_loss: 0.0016 - val_mae: 0.0280\n",
            "Epoch 4/10\n",
            "11/11 [==============================] - 5s 384ms/step - loss: 0.0099 - mae: 0.0731 - val_loss: 0.0071 - val_mae: 0.0807\n",
            "Epoch 5/10\n",
            "11/11 [==============================] - 6s 504ms/step - loss: 0.0094 - mae: 0.0722 - val_loss: 0.0024 - val_mae: 0.0378\n",
            "Epoch 6/10\n",
            "11/11 [==============================] - 11s 1s/step - loss: 0.0082 - mae: 0.0669 - val_loss: 9.1715e-04 - val_mae: 0.0182\n",
            "Epoch 7/10\n",
            "11/11 [==============================] - 4s 379ms/step - loss: 0.0085 - mae: 0.0691 - val_loss: 0.0011 - val_mae: 0.0190\n",
            "Epoch 8/10\n",
            "11/11 [==============================] - 11s 1s/step - loss: 0.0081 - mae: 0.0654 - val_loss: 7.8704e-04 - val_mae: 0.0169\n",
            "Epoch 9/10\n",
            "11/11 [==============================] - 4s 368ms/step - loss: 0.0078 - mae: 0.0644 - val_loss: 0.0018 - val_mae: 0.0328\n",
            "Epoch 10/10\n",
            "11/11 [==============================] - 6s 558ms/step - loss: 0.0074 - mae: 0.0614 - val_loss: 0.0010 - val_mae: 0.0182\n",
            "4/4 [==============================] - 1s 58ms/step - loss: 0.0023 - mae: 0.0319\n",
            "Test MAE: 0.03\n"
          ]
        }
      ]
    },
    {
      "cell_type": "markdown",
      "source": [
        "the performances of the RNN and LSTM high are less then I expected"
      ],
      "metadata": {
        "id": "ZqbT43VoLDMi"
      }
    }
  ]
}