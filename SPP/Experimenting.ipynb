{
 "cells": [
  {
   "cell_type": "code",
   "execution_count": 1,
   "metadata": {},
   "outputs": [
    {
     "name": "stderr",
     "output_type": "stream",
     "text": [
      "c:\\Users\\PorallaPradhyumna\\.conda\\envs\\env_rl\\lib\\site-packages\\numpy\\_distributor_init.py:30: UserWarning: loaded more than 1 DLL from .libs:\n",
      "c:\\Users\\PorallaPradhyumna\\.conda\\envs\\env_rl\\lib\\site-packages\\numpy\\.libs\\libopenblas.FB5AE2TYXYH2IJRDKGDGQ3XBKLKTF43H.gfortran-win_amd64.dll\n",
      "c:\\Users\\PorallaPradhyumna\\.conda\\envs\\env_rl\\lib\\site-packages\\numpy\\.libs\\libopenblas.XWYDX2IKJW2NMTWSFYNGFUWKQU3LYTCZ.gfortran-win_amd64.dll\n",
      "  warnings.warn(\"loaded more than 1 DLL from .libs:\"\n"
     ]
    }
   ],
   "source": [
    "import pandas as pd\n",
    "from matplotlib import pyplot as plt\n",
    "from TimeSeriesDatasetGenerater  import TimeSeriesDatasetGenerater\n",
    "import torch\n",
    "import torch.nn as nn\n",
    "import torch.nn.functional as F"
   ]
  },
  {
   "cell_type": "code",
   "execution_count": 2,
   "metadata": {},
   "outputs": [
    {
     "name": "stdout",
     "output_type": "stream",
     "text": [
      "['Amazon', 'S&P 500', 'NIFTY_50', 'NIFTY BANK', 'Dow Jones Industrial Average', 'Nasdaq Composite', 'Apple INC', 'Google', 'Microsoft Corp', 'Netflix Inc', 'Salesforce Inc']\n"
     ]
    }
   ],
   "source": [
    "# Replace 'your_file.xlsx' with the actual path to your Excel file\n",
    "excel_file_path = 'D:\\Programs\\DeepLearing\\Stock_prize_Prediction\\Data\\Stocks.xlsx'\n",
    "\n",
    "# Read all sheets into a dictionary of DataFrames\n",
    "all_sheets = pd.read_excel(excel_file_path, sheet_name=None)\n",
    "\n",
    "# Now, all_sheets is a dictionary where keys are sheet names and values are DataFrames\n",
    "# You can access a specific sheet using its name, for example:\n",
    "first_sheet_name = list(all_sheets.keys())\n",
    "#first_sheet_data = all_sheets[first_sheet_name]\n",
    "print(first_sheet_name)\n",
    "# Print the data in the first sheet\n",
    "#print(f\"Data in the sheet '{first_sheet_name}':\\n\", first_sheet_data)"
   ]
  },
  {
   "cell_type": "code",
   "execution_count": 3,
   "metadata": {},
   "outputs": [
    {
     "data": {
      "text/html": [
       "<div>\n",
       "<style scoped>\n",
       "    .dataframe tbody tr th:only-of-type {\n",
       "        vertical-align: middle;\n",
       "    }\n",
       "\n",
       "    .dataframe tbody tr th {\n",
       "        vertical-align: top;\n",
       "    }\n",
       "\n",
       "    .dataframe thead th {\n",
       "        text-align: right;\n",
       "    }\n",
       "</style>\n",
       "<table border=\"1\" class=\"dataframe\">\n",
       "  <thead>\n",
       "    <tr style=\"text-align: right;\">\n",
       "      <th></th>\n",
       "      <th>Date</th>\n",
       "      <th>Open</th>\n",
       "      <th>High</th>\n",
       "      <th>Low</th>\n",
       "      <th>Close</th>\n",
       "      <th>Volume</th>\n",
       "    </tr>\n",
       "  </thead>\n",
       "  <tbody>\n",
       "    <tr>\n",
       "      <th>0</th>\n",
       "      <td>1997-05-16 16:00:00.288</td>\n",
       "      <td>0.10</td>\n",
       "      <td>0.10</td>\n",
       "      <td>0.09</td>\n",
       "      <td>0.09</td>\n",
       "      <td>1223800</td>\n",
       "    </tr>\n",
       "    <tr>\n",
       "      <th>1</th>\n",
       "      <td>1997-05-19 16:00:00.288</td>\n",
       "      <td>0.09</td>\n",
       "      <td>0.09</td>\n",
       "      <td>0.08</td>\n",
       "      <td>0.09</td>\n",
       "      <td>508900</td>\n",
       "    </tr>\n",
       "    <tr>\n",
       "      <th>2</th>\n",
       "      <td>1997-05-20 16:00:00.288</td>\n",
       "      <td>0.09</td>\n",
       "      <td>0.09</td>\n",
       "      <td>0.08</td>\n",
       "      <td>0.08</td>\n",
       "      <td>455600</td>\n",
       "    </tr>\n",
       "    <tr>\n",
       "      <th>3</th>\n",
       "      <td>1997-05-21 16:00:00.288</td>\n",
       "      <td>0.08</td>\n",
       "      <td>0.08</td>\n",
       "      <td>0.07</td>\n",
       "      <td>0.07</td>\n",
       "      <td>1571100</td>\n",
       "    </tr>\n",
       "    <tr>\n",
       "      <th>4</th>\n",
       "      <td>1997-05-22 16:00:00.288</td>\n",
       "      <td>0.07</td>\n",
       "      <td>0.07</td>\n",
       "      <td>0.07</td>\n",
       "      <td>0.07</td>\n",
       "      <td>981400</td>\n",
       "    </tr>\n",
       "  </tbody>\n",
       "</table>\n",
       "</div>"
      ],
      "text/plain": [
       "                     Date  Open  High   Low  Close   Volume\n",
       "0 1997-05-16 16:00:00.288  0.10  0.10  0.09   0.09  1223800\n",
       "1 1997-05-19 16:00:00.288  0.09  0.09  0.08   0.09   508900\n",
       "2 1997-05-20 16:00:00.288  0.09  0.09  0.08   0.08   455600\n",
       "3 1997-05-21 16:00:00.288  0.08  0.08  0.07   0.07  1571100\n",
       "4 1997-05-22 16:00:00.288  0.07  0.07  0.07   0.07   981400"
      ]
     },
     "execution_count": 3,
     "metadata": {},
     "output_type": "execute_result"
    }
   ],
   "source": [
    "df_amazon= all_sheets[first_sheet_name[0]]\n",
    "df_amazon.head()"
   ]
  },
  {
   "cell_type": "code",
   "execution_count": 4,
   "metadata": {},
   "outputs": [],
   "source": [
    "df_amazon = df_amazon[df_amazon['Date'].dt.year>2018]"
   ]
  },
  {
   "cell_type": "code",
   "execution_count": 5,
   "metadata": {},
   "outputs": [
    {
     "data": {
      "text/plain": [
       "(1065, 6)"
      ]
     },
     "execution_count": 5,
     "metadata": {},
     "output_type": "execute_result"
    }
   ],
   "source": [
    "df_amazon.shape"
   ]
  },
  {
   "cell_type": "code",
   "execution_count": 6,
   "metadata": {},
   "outputs": [],
   "source": [
    "df_amazon = df_amazon.drop('Date', axis=1)"
   ]
  },
  {
   "cell_type": "code",
   "execution_count": 7,
   "metadata": {},
   "outputs": [],
   "source": [
    "means = df_amazon.mean(axis=0)\n",
    "df_amazon -= means\n",
    "std = df_amazon.std(axis=0)\n",
    "df_amazon /= std"
   ]
  },
  {
   "cell_type": "code",
   "execution_count": 8,
   "metadata": {},
   "outputs": [
    {
     "data": {
      "text/plain": [
       "(1065, 5)"
      ]
     },
     "execution_count": 8,
     "metadata": {},
     "output_type": "execute_result"
    }
   ],
   "source": [
    "df_amazon.shape\n",
    "#df_amazon = df_amazon.drop('Date', axis=1)\n"
   ]
  },
  {
   "cell_type": "code",
   "execution_count": 9,
   "metadata": {},
   "outputs": [
    {
     "data": {
      "text/plain": [
       "[<matplotlib.lines.Line2D at 0x217ce5c1880>]"
      ]
     },
     "execution_count": 9,
     "metadata": {},
     "output_type": "execute_result"
    },
    {
     "data": {
      "image/png": "[encoded data removed]",
      "text/plain": [
       "<Figure size 640x480 with 1 Axes>"
      ]
     },
     "metadata": {},
     "output_type": "display_data"
    }
   ],
   "source": [
    "plt.plot(range(df_amazon.shape[0]), df_amazon['Open'])\n",
    "plt.plot(range(df_amazon.shape[0]), df_amazon['Close'])"
   ]
  },
  {
   "cell_type": "code",
   "execution_count": 10,
   "metadata": {},
   "outputs": [],
   "source": [
    "# Split the dataframe into train and test sets\n",
    "train_size = int(0.8 * len(df_amazon))\n",
    "train_df = df_amazon.iloc[:train_size]\n",
    "test_df = df_amazon.iloc[train_size:]\n"
   ]
  },
  {
   "cell_type": "code",
   "execution_count": 11,
   "metadata": {},
   "outputs": [],
   "source": [
    "sampling_rate = 2\n",
    "sequence_length = 120\n",
    "delay = sampling_rate * (sequence_length + 24 - 1)\n",
    "batch_size = 256\n",
    "data = train_df.iloc[:-delay].to_numpy()\n",
    "targets = train_df['Open'].iloc[delay:].to_numpy()"
   ]
  },
  {
   "cell_type": "code",
   "execution_count": 12,
   "metadata": {},
   "outputs": [
    {
     "data": {
      "text/plain": [
       "((566, 5), (566,))"
      ]
     },
     "execution_count": 12,
     "metadata": {},
     "output_type": "execute_result"
    }
   ],
   "source": [
    "data.shape,targets.shape#45010"
   ]
  },
  {
   "cell_type": "code",
   "execution_count": 13,
   "metadata": {},
   "outputs": [],
   "source": [
    "sampling_rate = 2\n",
    "sequence_length = 120\n",
    "delay = sampling_rate * (sequence_length + 24 - 1)\n",
    "batch_size = 256\n",
    "dataset = TimeSeriesDatasetGenerater(data, targets, sequence_length, sequence_stride=2, sampling_rate = sampling_rate, batch_size = batch_size, shuffle = False, seed=None, start_index=0, end_index=566-sequence_length)\n",
    "dataloader = torch.utils.data.DataLoader(dataset, batch_size=dataset.batch_size, shuffle=dataset.shuffle)"
   ]
  },
  {
   "cell_type": "code",
   "execution_count": 14,
   "metadata": {},
   "outputs": [],
   "source": [
    "import math\n",
    "class SelfAttention(nn.Module):\n",
    "    def __init__(self,n_heads, d_embed, in_proj_bais = True, out_proj_bais =True):\n",
    "        super(SelfAttention, self).__init__()\n",
    "        self.n_heads = n_heads\n",
    "        self.d_heads = d_embed//n_heads\n",
    "        \n",
    "        \n",
    "        self.q = nn.Linear(d_embed,d_embed,bias=in_proj_bais)\n",
    "        self.k = nn.Linear(d_embed,d_embed,bias=in_proj_bais)\n",
    "        self.v = nn.Linear(d_embed,d_embed,bias=in_proj_bais)\n",
    "        \n",
    "        self.out_proj = nn.Linear(d_embed,d_embed,bias=out_proj_bais)\n",
    "        \n",
    "    def forward(self, x,causal_mask=False):\n",
    "        # x: batch_size, features, dim\n",
    "        bs, seq_len, d_embed = x.shape\n",
    "        intermedate_shape = (bs, seq_len,self.n_heads,self.d_heads)\n",
    "        q= F.silu(self.q(x))\n",
    "        k= F.silu(self.k(x))\n",
    "        v= F.silu(self.v(x))\n",
    "        \n",
    "        q = q.view(intermedate_shape).transpose(1,2)\n",
    "        k = k.view(intermedate_shape).transpose(1,2)\n",
    "        v = v.view(intermedate_shape).transpose(1,2)\n",
    "        \n",
    "        #(Batch_Size, H, Seq_Len, Dim / H) @ (Batch_Size, H, Dim / H, Seq_Len) => (Batch_Size, H, Seq_Len, Seq_Len)\n",
    "        weight = q @ k.transpose(-1,-2)\n",
    "        \n",
    "        if causal_mask:\n",
    "            mask = torch.ones_like(weight,dtype=torch.bool).triu(1)\n",
    "            weight.masked_fill_(mask,-torch.inf)\n",
    "        \n",
    "        weight /= math.sqrt(self.d_heads)\n",
    "        \n",
    "        weight = F.softmax(weight,dim=-1)\n",
    "        #(Batch_Size, H, Seq_Len, Seq_Len) @ (Batch_Size, H, Seq_Len, Dim / H) ==> (Batch_Size, H, Seq_Len, Dim / H)\n",
    "        output = weight @ v\n",
    "        \n",
    "        # (Batch_Size, H, Seq_Len, Dim / H) -> (Batch_Size, Seq_Len, H, Dim / H)\n",
    "        output = output.transpose(1, 2) \n",
    "        \n",
    "        #(Batch_Size, Seq_Len, H, Dim / H) ==> (Batch_Size, Seq_Len, Dim)\n",
    "        output =  output.reshape((bs, seq_len, d_embed))\n",
    "        \n",
    "        output = self.out_proj(output)\n",
    "        return output"
   ]
  },
  {
   "cell_type": "code",
   "execution_count": 20,
   "metadata": {},
   "outputs": [],
   "source": [
    "class NavieModel(nn.Module):\n",
    "    def __init__(self):\n",
    "        super(NavieModel, self).__init__()\n",
    "        self.conv1d = nn.Conv1d(in_channels=120, out_channels=240, kernel_size=3, padding=1)\n",
    "        self.bact_norm = nn.BatchNorm1d(240,momentum=1e-3)\n",
    "        self.lstm = nn.LSTM(input_size=5, hidden_size=240, batch_first=True,dropout=0.2)\n",
    "        self.attention = SelfAttention(6,240)\n",
    "        self.layer_norm_1 = nn.LayerNorm(480)\n",
    "        \n",
    "        \n",
    "        self.ff_1 = nn.Linear(480,480*2)\n",
    "        self.ff_2 = nn.Linear(480*2,480)\n",
    "        self.ff_3 = nn.Linear(480,480//2)\n",
    "        self.layer_norm_2 = nn.LayerNorm(960)\n",
    "        \n",
    "        self.lin_1 = nn.Linear(960,960//2)\n",
    "        self.lin_2 = nn.Linear(960//2,120)\n",
    "        \n",
    "        self.conv1d_1 = nn.Conv1d(240,120,kernel_size=3,stride=2)\n",
    "        self.conv1d_2 = nn.Conv1d(120,1,kernel_size=3,stride=2)\n",
    "        \n",
    "        #self.group_pool = nn.GlobalAveragePooling()\n",
    "        \n",
    "        self.op = nn.Linear(120,1)\n",
    "\n",
    "    def forward(self, x):\n",
    "        x = self.conv1d(x)\n",
    "        x = self.bact_norm(x)\n",
    "        x, _ = self.lstm(x)\n",
    "        residual = x\n",
    "        x = self.attention(x)\n",
    "        x = torch.cat((x,residual),dim=-1)\n",
    "        x = self.layer_norm_1(x)\n",
    "        residual = x\n",
    "        x = F.relu(self.ff_1(x))\n",
    "        x = F.relu(self.ff_2(x))\n",
    "        x = torch.cat((x,residual),dim=-1)\n",
    "        x = self.layer_norm_2(x)\n",
    "        \n",
    "        x = F.relu(self.lin_1(x))\n",
    "        x = F.relu(self.lin_2(x))\n",
    "        \n",
    "        x = F.relu6(self.conv1d_1(x))\n",
    "        x = F.relu6(self.conv1d_2(x))\n",
    "        \n",
    "        x = F.adaptive_avg_pool2d(x, (1, 1))\n",
    "        x = x.view(x.shape[0], -1)\n",
    "        #x = self.group_pool(x)\n",
    "        #x = F.relu(self.op(x))\n",
    "        #print(x.shape)\n",
    "        #x = self.lin(x)\n",
    "        return x"
   ]
  },
  {
   "cell_type": "code",
   "execution_count": 21,
   "metadata": {},
   "outputs": [],
   "source": [
    "NM = NavieModel().to('cuda')\n",
    "optima = torch.optim.SGD(NM.parameters(), lr=0.01)\n",
    "loss_function = nn.MSELoss()\n"
   ]
  },
  {
   "cell_type": "code",
   "execution_count": 17,
   "metadata": {},
   "outputs": [],
   "source": [
    "from tqdm import tqdm"
   ]
  },
  {
   "cell_type": "code",
   "execution_count": 18,
   "metadata": {},
   "outputs": [
    {
     "name": "stderr",
     "output_type": "stream",
     "text": [
      "  0%|          | 0/196 [00:00<?, ?it/s]"
     ]
    },
    {
     "name": "stdout",
     "output_type": "stream",
     "text": [
      "torch.Size([256, 120, 5]) torch.Size([256])\n"
     ]
    },
    {
     "name": "stderr",
     "output_type": "stream",
     "text": [
      "\n"
     ]
    }
   ],
   "source": [
    "for batch in tqdm(dataloader):\n",
    "    x,y = batch\n",
    "    print(x.shape, y.shape)\n",
    "    break"
   ]
  },
  {
   "cell_type": "code",
   "execution_count": 24,
   "metadata": {},
   "outputs": [
    {
     "name": "stderr",
     "output_type": "stream",
     "text": [
      "100%|██████████| 196/196 [00:56<00:00,  3.48it/s]\n"
     ]
    },
    {
     "name": "stdout",
     "output_type": "stream",
     "text": [
      "Epoch:1,Loss:0.2763"
     ]
    },
    {
     "name": "stderr",
     "output_type": "stream",
     "text": [
      "100%|██████████| 196/196 [00:56<00:00,  3.49it/s]\n"
     ]
    },
    {
     "name": "stdout",
     "output_type": "stream",
     "text": [
      "Epoch:2,Loss:0.2413"
     ]
    },
    {
     "name": "stderr",
     "output_type": "stream",
     "text": [
      "100%|██████████| 196/196 [00:56<00:00,  3.49it/s]\n"
     ]
    },
    {
     "name": "stdout",
     "output_type": "stream",
     "text": [
      "Epoch:3,Loss:0.1964"
     ]
    },
    {
     "name": "stderr",
     "output_type": "stream",
     "text": [
      "100%|██████████| 196/196 [03:44<00:00,  1.15s/it] \n"
     ]
    },
    {
     "name": "stdout",
     "output_type": "stream",
     "text": [
      "Epoch:4,Loss:0.1931"
     ]
    },
    {
     "name": "stderr",
     "output_type": "stream",
     "text": [
      "100%|██████████| 196/196 [00:56<00:00,  3.50it/s]\n"
     ]
    },
    {
     "name": "stdout",
     "output_type": "stream",
     "text": [
      "Epoch:5,Loss:0.1924"
     ]
    },
    {
     "name": "stderr",
     "output_type": "stream",
     "text": [
      "100%|██████████| 196/196 [00:56<00:00,  3.50it/s]\n"
     ]
    },
    {
     "name": "stdout",
     "output_type": "stream",
     "text": [
      "Epoch:6,Loss:0.1922"
     ]
    },
    {
     "name": "stderr",
     "output_type": "stream",
     "text": [
      "100%|██████████| 196/196 [00:56<00:00,  3.50it/s]\n"
     ]
    },
    {
     "name": "stdout",
     "output_type": "stream",
     "text": [
      "Epoch:7,Loss:0.1912"
     ]
    },
    {
     "name": "stderr",
     "output_type": "stream",
     "text": [
      "100%|██████████| 196/196 [00:56<00:00,  3.50it/s]\n"
     ]
    },
    {
     "name": "stdout",
     "output_type": "stream",
     "text": [
      "Epoch:8,Loss:0.1911"
     ]
    },
    {
     "name": "stderr",
     "output_type": "stream",
     "text": [
      "100%|██████████| 196/196 [00:56<00:00,  3.50it/s]\n"
     ]
    },
    {
     "name": "stdout",
     "output_type": "stream",
     "text": [
      "Epoch:9,Loss:0.1907"
     ]
    },
    {
     "name": "stderr",
     "output_type": "stream",
     "text": [
      "100%|██████████| 196/196 [00:56<00:00,  3.50it/s]"
     ]
    },
    {
     "name": "stdout",
     "output_type": "stream",
     "text": [
      "Epoch:10,Loss:0.1901"
     ]
    },
    {
     "name": "stderr",
     "output_type": "stream",
     "text": [
      "\n"
     ]
    }
   ],
   "source": [
    "epochs = 10\n",
    "for epoch in range(epochs):\n",
    "    \n",
    "    for batch in tqdm(dataloader):\n",
    "        x,y = batch\n",
    "        x=x.to('cuda').float()\n",
    "        y=y.to('cuda').float()\n",
    "        x_ = NM(x)\n",
    "        loss = loss_function(x_, y)\n",
    "        optima.zero_grad()\n",
    "        loss.backward()\n",
    "        optima.step()\n",
    "    print(f'Epoch:{epoch+1},Loss:{loss :.4f}',end=\"\")\n",
    "    "
   ]
  },
  {
   "cell_type": "code",
   "execution_count": null,
   "metadata": {},
   "outputs": [],
   "source": []
  }
 ],
 "metadata": {
  "kernelspec": {
   "display_name": "env_rl",
   "language": "python",
   "name": "python3"
  },
  "language_info": {
   "codemirror_mode": {
    "name": "ipython",
    "version": 3
   },
   "file_extension": ".py",
   "mimetype": "text/x-python",
   "name": "python",
   "nbconvert_exporter": "python",
   "pygments_lexer": "ipython3",
   "version": "3.9.16"
  }
 },
 "nbformat": 4,
 "nbformat_minor": 2
}
